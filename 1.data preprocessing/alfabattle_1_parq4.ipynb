{
 "cells": [
  {
   "cell_type": "markdown",
   "metadata": {},
   "source": [
    "Все тоже самое, что и в alfabattle_1_parq2, только вместо event_name идет device_screen_name"
   ]
  },
  {
   "cell_type": "code",
   "execution_count": 3,
   "metadata": {},
   "outputs": [],
   "source": [
    "import numpy as np\n",
    "import pandas as pd\n",
    "import gc\n",
    "import os\n",
    "import re"
   ]
  },
  {
   "cell_type": "code",
   "execution_count": 5,
   "metadata": {},
   "outputs": [],
   "source": [
    "parq0 = pd.read_parquet('../your_parqet0.parquet')\n",
    "parq0['timestamp'] = pd.to_datetime(parq0['timestamp'])\n",
    "parq0 = parq0.sort_values(by=['client', 'timestamp'])\n",
    "parq0 = parq0.merge(df[['session_id', 'client_pin', 'multi_class_target']], left_on=['client', 'session_id'], right_on=['client_pin', 'session_id'], how='left')\n",
    "parq0.drop(['client_pin'], axis=1, inplace=True)"
   ]
  },
  {
   "cell_type": "code",
   "execution_count": 7,
   "metadata": {},
   "outputs": [
    {
     "name": "stderr",
     "output_type": "stream",
     "text": [
      "/opt/conda/lib/python3.7/site-packages/pandas/core/indexing.py:670: SettingWithCopyWarning: \n",
      "A value is trying to be set on a copy of a slice from a DataFrame\n",
      "\n",
      "See the caveats in the documentation: https://pandas.pydata.org/pandas-docs/stable/user_guide/indexing.html#returning-a-view-versus-a-copy\n",
      "  iloc._setitem_with_indexer(indexer, value)\n"
     ]
    }
   ],
   "source": [
    "parq0['session_id'].loc[parq0['multi_class_target'].isna()] = np.nan"
   ]
  },
  {
   "cell_type": "code",
   "execution_count": 8,
   "metadata": {},
   "outputs": [],
   "source": [
    "parq0['session_id'] =  parq0.groupby('client')['session_id'].ffill()"
   ]
  },
  {
   "cell_type": "code",
   "execution_count": 9,
   "metadata": {},
   "outputs": [],
   "source": [
    "parq0['multi_class_target'] =  parq0.groupby('client')['multi_class_target'].ffill()"
   ]
  },
  {
   "cell_type": "code",
   "execution_count": 10,
   "metadata": {},
   "outputs": [],
   "source": [
    "parq0['session_id'].dropna(inplace=True)"
   ]
  },
  {
   "cell_type": "code",
   "execution_count": 11,
   "metadata": {},
   "outputs": [],
   "source": [
    "top_event = parq0['device_screen_name'].value_counts(normalize=True)[:60].index"
   ]
  },
  {
   "cell_type": "code",
   "execution_count": 13,
   "metadata": {},
   "outputs": [
    {
     "name": "stdout",
     "output_type": "stream",
     "text": [
      "0\n",
      "1\n",
      "2\n",
      "3\n",
      "4\n",
      "5\n",
      "6\n",
      "7\n",
      "8\n",
      "9\n"
     ]
    }
   ],
   "source": [
    "concat_list = []\n",
    "for i in range(10):\n",
    "    print(i)\n",
    "    parq0 = pd.read_parquet(f'../your_parqet{i}.parquet')\n",
    "    parq0['timestamp'] = pd.to_datetime(parq0['timestamp'])\n",
    "    parq0 = parq0.sort_values(by=['client', 'timestamp'])\n",
    "    parq0 = parq0.merge(df[['session_id', 'client_pin', 'multi_class_target']], left_on=['client', 'session_id'], right_on=['client_pin', 'session_id'], how='left')\n",
    "    parq0.drop(['client_pin'], axis=1, inplace=True)\n",
    "    parq0['session_id'].loc[parq0['multi_class_target'].isna()] = np.nan\n",
    "    parq0['session_id'] =  parq0.groupby('client')['session_id'].ffill()\n",
    "    parq0['multi_class_target'] =  parq0.groupby('client')['multi_class_target'].ffill()\n",
    "    parq0['session_id'].dropna(inplace=True)\n",
    "    parq0.drop(['device_is_webview', 'page_urlhost', 'page_urlpath_full', 'net_connection_type', 'net_connection_tech', 'application_id'], axis=1, inplace=True)\n",
    "    for event in top_event:\n",
    "        parq0[event] = (parq0['device_screen_name'] == event).astype('int16')\n",
    "    parq0.drop(['timestamp', 'event_type', 'event_category', 'event_name', 'event_label', 'device_screen_name', 'timezone', 'multi_class_target'], axis=1, inplace=True)\n",
    "    \n",
    "    df_group = parq0.rename({'client':'client_pin'}, axis=1).groupby(['client_pin', 'session_id']).sum()\n",
    "    \n",
    "    concat_list.append(df_group)\n",
    "    del df_group\n",
    "    del parq0\n",
    "    gc.collect()"
   ]
  },
  {
   "cell_type": "code",
   "execution_count": 14,
   "metadata": {},
   "outputs": [],
   "source": [
    "df_con = pd.concat(concat_list)"
   ]
  },
  {
   "cell_type": "code",
   "execution_count": 15,
   "metadata": {},
   "outputs": [],
   "source": [
    "df = df.merge(df_con, how='left', on=['client_pin', 'session_id'])"
   ]
  },
  {
   "cell_type": "code",
   "execution_count": 16,
   "metadata": {},
   "outputs": [],
   "source": [
    "df.to_csv('alfa1_train_expend5.csv', index=False)"
   ]
  }
 ],
 "metadata": {
  "kernelspec": {
   "display_name": "Python 3",
   "language": "python",
   "name": "python3"
  },
  "language_info": {
   "codemirror_mode": {
    "name": "ipython",
    "version": 3
   },
   "file_extension": ".py",
   "mimetype": "text/x-python",
   "name": "python",
   "nbconvert_exporter": "python",
   "pygments_lexer": "ipython3",
   "version": "3.7.3"
  }
 },
 "nbformat": 4,
 "nbformat_minor": 4
}
