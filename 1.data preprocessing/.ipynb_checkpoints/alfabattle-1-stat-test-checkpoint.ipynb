{
 "cells": [
  {
   "cell_type": "markdown",
   "metadata": {},
   "source": [
    "По аналогии с созданием трейн и валид датасетов, создадим тестовый датасет, путем добавления информации о будущей сессии пользователя, о которой мы знаем только дату и время"
   ]
  },
  {
   "cell_type": "code",
   "execution_count": 1,
   "metadata": {
    "_cell_guid": "b1076dfc-b9ad-4769-8c92-a6c4dae69d19",
    "_uuid": "8f2839f25d086af736a60e9eeb907d3b93b6e0e5",
    "execution": {
     "iopub.execute_input": "2021-01-12T15:05:39.971272Z",
     "iopub.status.busy": "2021-01-12T15:05:39.970439Z",
     "iopub.status.idle": "2021-01-12T15:05:40.099203Z",
     "shell.execute_reply": "2021-01-12T15:05:40.098218Z"
    },
    "papermill": {
     "duration": 0.192779,
     "end_time": "2021-01-12T15:05:40.099339",
     "exception": false,
     "start_time": "2021-01-12T15:05:39.906560",
     "status": "completed"
    },
    "tags": []
   },
   "outputs": [],
   "source": [
    "import numpy as np\n",
    "import pandas as pd\n",
    "import gc\n",
    "import holidays"
   ]
  },
  {
   "cell_type": "code",
   "execution_count": 2,
   "metadata": {
    "execution": {
     "iopub.execute_input": "2021-01-12T15:05:40.237459Z",
     "iopub.status.busy": "2021-01-12T15:05:40.236751Z",
     "iopub.status.idle": "2021-01-12T15:05:40.239516Z",
     "shell.execute_reply": "2021-01-12T15:05:40.238996Z"
    },
    "papermill": {
     "duration": 0.082782,
     "end_time": "2021-01-12T15:05:40.239630",
     "exception": false,
     "start_time": "2021-01-12T15:05:40.156848",
     "status": "completed"
    },
    "tags": []
   },
   "outputs": [],
   "source": [
    "def reduce_mem_usage(df):\n",
    "    \"\"\" \n",
    "    iterate through all the columns of a dataframe and \n",
    "    modify the data type to reduce memory usage.        \n",
    "    \"\"\"\n",
    "    start_mem = df.memory_usage().sum() / 1024**2\n",
    "    print(('Memory usage of dataframe is {:.2f}' \n",
    "                     'MB').format(start_mem))\n",
    "    \n",
    "    for col in df.columns:\n",
    "        col_type = df[col].dtype\n",
    "        \n",
    "        if col_type != object:\n",
    "            c_min = df[col].min()\n",
    "            c_max = df[col].max()\n",
    "            if str(col_type)[:3] == 'int':\n",
    "                if c_min > np.iinfo(np.int8).min and c_max <\\\n",
    "                  np.iinfo(np.int8).max:\n",
    "                    df[col] = df[col].astype(np.int8)\n",
    "                elif c_min > np.iinfo(np.int16).min and c_max <\\\n",
    "                   np.iinfo(np.int16).max:\n",
    "                    df[col] = df[col].astype(np.int16)\n",
    "                elif c_min > np.iinfo(np.int32).min and c_max <\\\n",
    "                   np.iinfo(np.int32).max:\n",
    "                    df[col] = df[col].astype(np.int32)\n",
    "                elif c_min > np.iinfo(np.int64).min and c_max <\\\n",
    "                   np.iinfo(np.int64).max:\n",
    "                    df[col] = df[col].astype(np.int64)  \n",
    "            else:\n",
    "                if c_min > np.finfo(np.float16).min and c_max <\\\n",
    "                   np.finfo(np.float16).max:\n",
    "                    df[col] = df[col].astype(np.float16)\n",
    "                elif c_min > np.finfo(np.float32).min and c_max <\\\n",
    "                   np.finfo(np.float32).max:\n",
    "                    df[col] = df[col].astype(np.float32)\n",
    "                else:\n",
    "                    df[col] = df[col].astype(np.float64)\n",
    "        else:\n",
    "            df[col] = df[col].astype('category')\n",
    "    end_mem = df.memory_usage().sum() / 1024**2\n",
    "    print(('Memory usage after optimization is: {:.2f}' \n",
    "                              'MB').format(end_mem))\n",
    "    print('Decreased by {:.1f}%'.format(100 * (start_mem - end_mem) \n",
    "                                             / start_mem))\n",
    "    \n",
    "    return df"
   ]
  },
  {
   "cell_type": "code",
   "execution_count": 3,
   "metadata": {
    "execution": {
     "iopub.execute_input": "2021-01-12T15:05:40.362995Z",
     "iopub.status.busy": "2021-01-12T15:05:40.362236Z",
     "iopub.status.idle": "2021-01-12T15:06:15.217013Z",
     "shell.execute_reply": "2021-01-12T15:06:15.216140Z"
    },
    "papermill": {
     "duration": 34.920767,
     "end_time": "2021-01-12T15:06:15.217151",
     "exception": false,
     "start_time": "2021-01-12T15:05:40.296384",
     "status": "completed"
    },
    "tags": []
   },
   "outputs": [],
   "source": [
    "df = pd.read_csv(\"../input/alfabattle-1-parq/alfa1_train_expend.csv\")\n",
    "df_test = pd.read_csv('../input/alfabattle1/alfabattle2_prediction_session_timestamp.csv')"
   ]
  },
  {
   "cell_type": "code",
   "execution_count": 4,
   "metadata": {
    "execution": {
     "iopub.execute_input": "2021-01-12T15:06:15.341460Z",
     "iopub.status.busy": "2021-01-12T15:06:15.340352Z",
     "iopub.status.idle": "2021-01-12T15:06:23.197097Z",
     "shell.execute_reply": "2021-01-12T15:06:23.196229Z"
    },
    "papermill": {
     "duration": 7.921495,
     "end_time": "2021-01-12T15:06:23.197232",
     "exception": false,
     "start_time": "2021-01-12T15:06:15.275737",
     "status": "completed"
    },
    "tags": []
   },
   "outputs": [],
   "source": [
    "df = pd.concat((df, df_test)).reset_index(drop=True)"
   ]
  },
  {
   "cell_type": "code",
   "execution_count": 5,
   "metadata": {
    "execution": {
     "iopub.execute_input": "2021-01-12T15:06:23.470105Z",
     "iopub.status.busy": "2021-01-12T15:06:23.468305Z",
     "iopub.status.idle": "2021-01-12T15:07:11.091948Z",
     "shell.execute_reply": "2021-01-12T15:07:11.091205Z"
    },
    "papermill": {
     "duration": 47.835779,
     "end_time": "2021-01-12T15:07:11.092078",
     "exception": false,
     "start_time": "2021-01-12T15:06:23.256299",
     "status": "completed"
    },
    "tags": []
   },
   "outputs": [],
   "source": [
    "df = df.sort_values(by=['client_pin', 'timestamp'])"
   ]
  },
  {
   "cell_type": "code",
   "execution_count": 6,
   "metadata": {
    "execution": {
     "iopub.execute_input": "2021-01-12T15:07:13.600068Z",
     "iopub.status.busy": "2021-01-12T15:07:13.598121Z",
     "iopub.status.idle": "2021-01-12T15:07:15.272321Z",
     "shell.execute_reply": "2021-01-12T15:07:15.271651Z"
    },
    "papermill": {
     "duration": 4.122788,
     "end_time": "2021-01-12T15:07:15.272516",
     "exception": false,
     "start_time": "2021-01-12T15:07:11.149728",
     "status": "completed"
    },
    "tags": []
   },
   "outputs": [],
   "source": [
    "df['timestamp'] = pd.to_datetime(df['timestamp'])"
   ]
  },
  {
   "cell_type": "code",
   "execution_count": 7,
   "metadata": {
    "execution": {
     "iopub.execute_input": "2021-01-12T15:07:15.392986Z",
     "iopub.status.busy": "2021-01-12T15:07:15.392007Z",
     "iopub.status.idle": "2021-01-12T15:07:18.130063Z",
     "shell.execute_reply": "2021-01-12T15:07:18.129319Z"
    },
    "papermill": {
     "duration": 2.800324,
     "end_time": "2021-01-12T15:07:18.130185",
     "exception": false,
     "start_time": "2021-01-12T15:07:15.329861",
     "status": "completed"
    },
    "tags": []
   },
   "outputs": [],
   "source": [
    "df['session_id'].fillna(df['client_pin']+'0', inplace=True)"
   ]
  },
  {
   "cell_type": "code",
   "execution_count": 8,
   "metadata": {
    "execution": {
     "iopub.execute_input": "2021-01-12T15:07:18.250610Z",
     "iopub.status.busy": "2021-01-12T15:07:18.249891Z",
     "iopub.status.idle": "2021-01-12T15:07:19.336644Z",
     "shell.execute_reply": "2021-01-12T15:07:19.337184Z"
    },
    "papermill": {
     "duration": 1.149391,
     "end_time": "2021-01-12T15:07:19.337340",
     "exception": false,
     "start_time": "2021-01-12T15:07:18.187949",
     "status": "completed"
    },
    "tags": []
   },
   "outputs": [],
   "source": [
    "df_temp = df.copy()"
   ]
  },
  {
   "cell_type": "code",
   "execution_count": 9,
   "metadata": {
    "execution": {
     "iopub.execute_input": "2021-01-12T15:07:19.457521Z",
     "iopub.status.busy": "2021-01-12T15:07:19.456487Z",
     "iopub.status.idle": "2021-01-12T15:07:21.132745Z",
     "shell.execute_reply": "2021-01-12T15:07:21.132152Z"
    },
    "papermill": {
     "duration": 1.737537,
     "end_time": "2021-01-12T15:07:21.132862",
     "exception": false,
     "start_time": "2021-01-12T15:07:19.395325",
     "status": "completed"
    },
    "tags": []
   },
   "outputs": [],
   "source": [
    "df_stat = pd.DataFrame()\n",
    "df_stat['client_pin'] = df_temp['client_pin'].unique()"
   ]
  },
  {
   "cell_type": "code",
   "execution_count": 10,
   "metadata": {
    "execution": {
     "iopub.execute_input": "2021-01-12T15:07:21.636600Z",
     "iopub.status.busy": "2021-01-12T15:07:21.634827Z",
     "iopub.status.idle": "2021-01-12T15:07:23.280875Z",
     "shell.execute_reply": "2021-01-12T15:07:23.280253Z"
    },
    "papermill": {
     "duration": 2.090182,
     "end_time": "2021-01-12T15:07:23.281001",
     "exception": false,
     "start_time": "2021-01-12T15:07:21.190819",
     "status": "completed"
    },
    "tags": []
   },
   "outputs": [],
   "source": [
    "last_ses = df_temp.groupby('client_pin')['session_id'].tail(1).values"
   ]
  },
  {
   "cell_type": "code",
   "execution_count": 11,
   "metadata": {
    "execution": {
     "iopub.execute_input": "2021-01-12T15:07:25.689051Z",
     "iopub.status.busy": "2021-01-12T15:07:25.687871Z",
     "iopub.status.idle": "2021-01-12T15:07:43.459529Z",
     "shell.execute_reply": "2021-01-12T15:07:43.458812Z"
    },
    "papermill": {
     "duration": 20.120434,
     "end_time": "2021-01-12T15:07:43.459648",
     "exception": false,
     "start_time": "2021-01-12T15:07:23.339214",
     "status": "completed"
    },
    "tags": []
   },
   "outputs": [],
   "source": [
    "df_stat = df_stat.merge(df_temp.loc[~df_temp['session_id'].isin(last_ses)].groupby(['client_pin'])['multi_class_target'].agg(\n",
    "    lambda x: pd.Series.mode(x)[0]).rename('most_popular'), how='left', on='client_pin')"
   ]
  },
  {
   "cell_type": "code",
   "execution_count": 12,
   "metadata": {
    "execution": {
     "iopub.execute_input": "2021-01-12T15:07:43.583101Z",
     "iopub.status.busy": "2021-01-12T15:07:43.582262Z",
     "iopub.status.idle": "2021-01-12T15:07:56.571672Z",
     "shell.execute_reply": "2021-01-12T15:07:56.570921Z"
    },
    "papermill": {
     "duration": 13.05404,
     "end_time": "2021-01-12T15:07:56.571795",
     "exception": false,
     "start_time": "2021-01-12T15:07:43.517755",
     "status": "completed"
    },
    "tags": []
   },
   "outputs": [],
   "source": [
    "df_temp = df_temp.merge(df_temp[['client_pin', 'timestamp']].groupby(['client_pin']).tail(1).rename({'timestamp':'next_time'}, axis=1), how='left', on='client_pin')"
   ]
  },
  {
   "cell_type": "code",
   "execution_count": 13,
   "metadata": {
    "execution": {
     "iopub.execute_input": "2021-01-12T15:07:56.691689Z",
     "iopub.status.busy": "2021-01-12T15:07:56.691020Z",
     "iopub.status.idle": "2021-01-12T15:07:56.790889Z",
     "shell.execute_reply": "2021-01-12T15:07:56.791451Z"
    },
    "papermill": {
     "duration": 0.161595,
     "end_time": "2021-01-12T15:07:56.791600",
     "exception": false,
     "start_time": "2021-01-12T15:07:56.630005",
     "status": "completed"
    },
    "tags": []
   },
   "outputs": [],
   "source": [
    "df_temp['timedelta_act'] = (df_temp['next_time'] - df_temp['timestamp']) / np.timedelta64(1, 'h')"
   ]
  },
  {
   "cell_type": "code",
   "execution_count": 14,
   "metadata": {
    "execution": {
     "iopub.execute_input": "2021-01-12T15:07:56.913146Z",
     "iopub.status.busy": "2021-01-12T15:07:56.912547Z",
     "iopub.status.idle": "2021-01-12T15:08:04.564780Z",
     "shell.execute_reply": "2021-01-12T15:08:04.565391Z"
    },
    "papermill": {
     "duration": 7.715302,
     "end_time": "2021-01-12T15:08:04.565560",
     "exception": false,
     "start_time": "2021-01-12T15:07:56.850258",
     "status": "completed"
    },
    "tags": []
   },
   "outputs": [],
   "source": [
    "df_stat = df_stat.merge(df_temp[['client_pin', 'timedelta_act']].loc[~df_temp['session_id'].isin(last_ses)].groupby('client_pin').tail(1), how='left', on='client_pin')"
   ]
  },
  {
   "cell_type": "code",
   "execution_count": 15,
   "metadata": {
    "execution": {
     "iopub.execute_input": "2021-01-12T15:08:07.132078Z",
     "iopub.status.busy": "2021-01-12T15:08:07.130972Z",
     "iopub.status.idle": "2021-01-12T15:09:25.523042Z",
     "shell.execute_reply": "2021-01-12T15:09:25.523596Z"
    },
    "papermill": {
     "duration": 80.894066,
     "end_time": "2021-01-12T15:09:25.523771",
     "exception": false,
     "start_time": "2021-01-12T15:08:04.629705",
     "status": "completed"
    },
    "tags": []
   },
   "outputs": [
    {
     "name": "stderr",
     "output_type": "stream",
     "text": [
      "/opt/conda/lib/python3.7/site-packages/ipykernel_launcher.py:3: SettingWithCopyWarning: \n",
      "A value is trying to be set on a copy of a slice from a DataFrame.\n",
      "Try using .loc[row_indexer,col_indexer] = value instead\n",
      "\n",
      "See the caveats in the documentation: https://pandas.pydata.org/pandas-docs/stable/user_guide/indexing.html#returning-a-view-versus-a-copy\n",
      "  This is separate from the ipykernel package so we can avoid doing imports until\n",
      "/opt/conda/lib/python3.7/site-packages/ipykernel_launcher.py:4: SettingWithCopyWarning: \n",
      "A value is trying to be set on a copy of a slice from a DataFrame\n",
      "\n",
      "See the caveats in the documentation: https://pandas.pydata.org/pandas-docs/stable/user_guide/indexing.html#returning-a-view-versus-a-copy\n",
      "  after removing the cwd from sys.path.\n",
      "/opt/conda/lib/python3.7/site-packages/ipykernel_launcher.py:5: SettingWithCopyWarning: \n",
      "A value is trying to be set on a copy of a slice from a DataFrame.\n",
      "Try using .loc[row_indexer,col_indexer] = value instead\n",
      "\n",
      "See the caveats in the documentation: https://pandas.pydata.org/pandas-docs/stable/user_guide/indexing.html#returning-a-view-versus-a-copy\n",
      "  \"\"\"\n",
      "/opt/conda/lib/python3.7/site-packages/ipykernel_launcher.py:3: SettingWithCopyWarning: \n",
      "A value is trying to be set on a copy of a slice from a DataFrame.\n",
      "Try using .loc[row_indexer,col_indexer] = value instead\n",
      "\n",
      "See the caveats in the documentation: https://pandas.pydata.org/pandas-docs/stable/user_guide/indexing.html#returning-a-view-versus-a-copy\n",
      "  This is separate from the ipykernel package so we can avoid doing imports until\n",
      "/opt/conda/lib/python3.7/site-packages/ipykernel_launcher.py:4: SettingWithCopyWarning: \n",
      "A value is trying to be set on a copy of a slice from a DataFrame\n",
      "\n",
      "See the caveats in the documentation: https://pandas.pydata.org/pandas-docs/stable/user_guide/indexing.html#returning-a-view-versus-a-copy\n",
      "  after removing the cwd from sys.path.\n",
      "/opt/conda/lib/python3.7/site-packages/ipykernel_launcher.py:5: SettingWithCopyWarning: \n",
      "A value is trying to be set on a copy of a slice from a DataFrame.\n",
      "Try using .loc[row_indexer,col_indexer] = value instead\n",
      "\n",
      "See the caveats in the documentation: https://pandas.pydata.org/pandas-docs/stable/user_guide/indexing.html#returning-a-view-versus-a-copy\n",
      "  \"\"\"\n",
      "/opt/conda/lib/python3.7/site-packages/ipykernel_launcher.py:3: SettingWithCopyWarning: \n",
      "A value is trying to be set on a copy of a slice from a DataFrame.\n",
      "Try using .loc[row_indexer,col_indexer] = value instead\n",
      "\n",
      "See the caveats in the documentation: https://pandas.pydata.org/pandas-docs/stable/user_guide/indexing.html#returning-a-view-versus-a-copy\n",
      "  This is separate from the ipykernel package so we can avoid doing imports until\n",
      "/opt/conda/lib/python3.7/site-packages/ipykernel_launcher.py:4: SettingWithCopyWarning: \n",
      "A value is trying to be set on a copy of a slice from a DataFrame\n",
      "\n",
      "See the caveats in the documentation: https://pandas.pydata.org/pandas-docs/stable/user_guide/indexing.html#returning-a-view-versus-a-copy\n",
      "  after removing the cwd from sys.path.\n",
      "/opt/conda/lib/python3.7/site-packages/ipykernel_launcher.py:5: SettingWithCopyWarning: \n",
      "A value is trying to be set on a copy of a slice from a DataFrame.\n",
      "Try using .loc[row_indexer,col_indexer] = value instead\n",
      "\n",
      "See the caveats in the documentation: https://pandas.pydata.org/pandas-docs/stable/user_guide/indexing.html#returning-a-view-versus-a-copy\n",
      "  \"\"\"\n",
      "/opt/conda/lib/python3.7/site-packages/ipykernel_launcher.py:4: SettingWithCopyWarning: \n",
      "A value is trying to be set on a copy of a slice from a DataFrame\n",
      "\n",
      "See the caveats in the documentation: https://pandas.pydata.org/pandas-docs/stable/user_guide/indexing.html#returning-a-view-versus-a-copy\n",
      "  after removing the cwd from sys.path.\n",
      "/opt/conda/lib/python3.7/site-packages/ipykernel_launcher.py:3: SettingWithCopyWarning: \n",
      "A value is trying to be set on a copy of a slice from a DataFrame.\n",
      "Try using .loc[row_indexer,col_indexer] = value instead\n",
      "\n",
      "See the caveats in the documentation: https://pandas.pydata.org/pandas-docs/stable/user_guide/indexing.html#returning-a-view-versus-a-copy\n",
      "  This is separate from the ipykernel package so we can avoid doing imports until\n",
      "/opt/conda/lib/python3.7/site-packages/ipykernel_launcher.py:4: SettingWithCopyWarning: \n",
      "A value is trying to be set on a copy of a slice from a DataFrame\n",
      "\n",
      "See the caveats in the documentation: https://pandas.pydata.org/pandas-docs/stable/user_guide/indexing.html#returning-a-view-versus-a-copy\n",
      "  after removing the cwd from sys.path.\n",
      "/opt/conda/lib/python3.7/site-packages/ipykernel_launcher.py:5: SettingWithCopyWarning: \n",
      "A value is trying to be set on a copy of a slice from a DataFrame.\n",
      "Try using .loc[row_indexer,col_indexer] = value instead\n",
      "\n",
      "See the caveats in the documentation: https://pandas.pydata.org/pandas-docs/stable/user_guide/indexing.html#returning-a-view-versus-a-copy\n",
      "  \"\"\"\n",
      "/opt/conda/lib/python3.7/site-packages/ipykernel_launcher.py:3: SettingWithCopyWarning: \n",
      "A value is trying to be set on a copy of a slice from a DataFrame.\n",
      "Try using .loc[row_indexer,col_indexer] = value instead\n",
      "\n",
      "See the caveats in the documentation: https://pandas.pydata.org/pandas-docs/stable/user_guide/indexing.html#returning-a-view-versus-a-copy\n",
      "  This is separate from the ipykernel package so we can avoid doing imports until\n",
      "/opt/conda/lib/python3.7/site-packages/ipykernel_launcher.py:4: SettingWithCopyWarning: \n",
      "A value is trying to be set on a copy of a slice from a DataFrame\n",
      "\n",
      "See the caveats in the documentation: https://pandas.pydata.org/pandas-docs/stable/user_guide/indexing.html#returning-a-view-versus-a-copy\n",
      "  after removing the cwd from sys.path.\n",
      "/opt/conda/lib/python3.7/site-packages/ipykernel_launcher.py:5: SettingWithCopyWarning: \n",
      "A value is trying to be set on a copy of a slice from a DataFrame.\n",
      "Try using .loc[row_indexer,col_indexer] = value instead\n",
      "\n",
      "See the caveats in the documentation: https://pandas.pydata.org/pandas-docs/stable/user_guide/indexing.html#returning-a-view-versus-a-copy\n",
      "  \"\"\"\n",
      "/opt/conda/lib/python3.7/site-packages/ipykernel_launcher.py:3: SettingWithCopyWarning: \n",
      "A value is trying to be set on a copy of a slice from a DataFrame.\n",
      "Try using .loc[row_indexer,col_indexer] = value instead\n",
      "\n",
      "See the caveats in the documentation: https://pandas.pydata.org/pandas-docs/stable/user_guide/indexing.html#returning-a-view-versus-a-copy\n",
      "  This is separate from the ipykernel package so we can avoid doing imports until\n",
      "/opt/conda/lib/python3.7/site-packages/ipykernel_launcher.py:4: SettingWithCopyWarning: \n",
      "A value is trying to be set on a copy of a slice from a DataFrame\n",
      "\n",
      "See the caveats in the documentation: https://pandas.pydata.org/pandas-docs/stable/user_guide/indexing.html#returning-a-view-versus-a-copy\n",
      "  after removing the cwd from sys.path.\n",
      "/opt/conda/lib/python3.7/site-packages/ipykernel_launcher.py:5: SettingWithCopyWarning: \n",
      "A value is trying to be set on a copy of a slice from a DataFrame.\n",
      "Try using .loc[row_indexer,col_indexer] = value instead\n",
      "\n",
      "See the caveats in the documentation: https://pandas.pydata.org/pandas-docs/stable/user_guide/indexing.html#returning-a-view-versus-a-copy\n",
      "  \"\"\"\n",
      "/opt/conda/lib/python3.7/site-packages/ipykernel_launcher.py:3: SettingWithCopyWarning: \n",
      "A value is trying to be set on a copy of a slice from a DataFrame.\n",
      "Try using .loc[row_indexer,col_indexer] = value instead\n",
      "\n",
      "See the caveats in the documentation: https://pandas.pydata.org/pandas-docs/stable/user_guide/indexing.html#returning-a-view-versus-a-copy\n",
      "  This is separate from the ipykernel package so we can avoid doing imports until\n",
      "/opt/conda/lib/python3.7/site-packages/ipykernel_launcher.py:4: SettingWithCopyWarning: \n",
      "A value is trying to be set on a copy of a slice from a DataFrame\n",
      "\n",
      "See the caveats in the documentation: https://pandas.pydata.org/pandas-docs/stable/user_guide/indexing.html#returning-a-view-versus-a-copy\n",
      "  after removing the cwd from sys.path.\n",
      "/opt/conda/lib/python3.7/site-packages/ipykernel_launcher.py:5: SettingWithCopyWarning: \n",
      "A value is trying to be set on a copy of a slice from a DataFrame.\n",
      "Try using .loc[row_indexer,col_indexer] = value instead\n",
      "\n",
      "See the caveats in the documentation: https://pandas.pydata.org/pandas-docs/stable/user_guide/indexing.html#returning-a-view-versus-a-copy\n",
      "  \"\"\"\n",
      "/opt/conda/lib/python3.7/site-packages/ipykernel_launcher.py:3: SettingWithCopyWarning: \n",
      "A value is trying to be set on a copy of a slice from a DataFrame.\n",
      "Try using .loc[row_indexer,col_indexer] = value instead\n",
      "\n",
      "See the caveats in the documentation: https://pandas.pydata.org/pandas-docs/stable/user_guide/indexing.html#returning-a-view-versus-a-copy\n",
      "  This is separate from the ipykernel package so we can avoid doing imports until\n",
      "/opt/conda/lib/python3.7/site-packages/ipykernel_launcher.py:4: SettingWithCopyWarning: \n",
      "A value is trying to be set on a copy of a slice from a DataFrame\n",
      "\n",
      "See the caveats in the documentation: https://pandas.pydata.org/pandas-docs/stable/user_guide/indexing.html#returning-a-view-versus-a-copy\n",
      "  after removing the cwd from sys.path.\n",
      "/opt/conda/lib/python3.7/site-packages/ipykernel_launcher.py:5: SettingWithCopyWarning: \n",
      "A value is trying to be set on a copy of a slice from a DataFrame.\n",
      "Try using .loc[row_indexer,col_indexer] = value instead\n",
      "\n",
      "See the caveats in the documentation: https://pandas.pydata.org/pandas-docs/stable/user_guide/indexing.html#returning-a-view-versus-a-copy\n",
      "  \"\"\"\n",
      "/opt/conda/lib/python3.7/site-packages/ipykernel_launcher.py:3: SettingWithCopyWarning: \n",
      "A value is trying to be set on a copy of a slice from a DataFrame.\n",
      "Try using .loc[row_indexer,col_indexer] = value instead\n",
      "\n",
      "See the caveats in the documentation: https://pandas.pydata.org/pandas-docs/stable/user_guide/indexing.html#returning-a-view-versus-a-copy\n",
      "  This is separate from the ipykernel package so we can avoid doing imports until\n",
      "/opt/conda/lib/python3.7/site-packages/ipykernel_launcher.py:4: SettingWithCopyWarning: \n",
      "A value is trying to be set on a copy of a slice from a DataFrame\n",
      "\n",
      "See the caveats in the documentation: https://pandas.pydata.org/pandas-docs/stable/user_guide/indexing.html#returning-a-view-versus-a-copy\n",
      "  after removing the cwd from sys.path.\n",
      "/opt/conda/lib/python3.7/site-packages/ipykernel_launcher.py:5: SettingWithCopyWarning: \n",
      "A value is trying to be set on a copy of a slice from a DataFrame.\n",
      "Try using .loc[row_indexer,col_indexer] = value instead\n",
      "\n",
      "See the caveats in the documentation: https://pandas.pydata.org/pandas-docs/stable/user_guide/indexing.html#returning-a-view-versus-a-copy\n",
      "  \"\"\"\n",
      "/opt/conda/lib/python3.7/site-packages/ipykernel_launcher.py:3: SettingWithCopyWarning: \n",
      "A value is trying to be set on a copy of a slice from a DataFrame.\n",
      "Try using .loc[row_indexer,col_indexer] = value instead\n",
      "\n",
      "See the caveats in the documentation: https://pandas.pydata.org/pandas-docs/stable/user_guide/indexing.html#returning-a-view-versus-a-copy\n",
      "  This is separate from the ipykernel package so we can avoid doing imports until\n",
      "/opt/conda/lib/python3.7/site-packages/ipykernel_launcher.py:4: SettingWithCopyWarning: \n",
      "A value is trying to be set on a copy of a slice from a DataFrame\n",
      "\n",
      "See the caveats in the documentation: https://pandas.pydata.org/pandas-docs/stable/user_guide/indexing.html#returning-a-view-versus-a-copy\n",
      "  after removing the cwd from sys.path.\n",
      "/opt/conda/lib/python3.7/site-packages/ipykernel_launcher.py:5: SettingWithCopyWarning: \n",
      "A value is trying to be set on a copy of a slice from a DataFrame.\n",
      "Try using .loc[row_indexer,col_indexer] = value instead\n",
      "\n",
      "See the caveats in the documentation: https://pandas.pydata.org/pandas-docs/stable/user_guide/indexing.html#returning-a-view-versus-a-copy\n",
      "  \"\"\"\n"
     ]
    }
   ],
   "source": [
    "for action in df_temp['multi_class_target'].unique():\n",
    "    df_time = df_temp.loc[(~df_temp['session_id'].isin(last_ses)) & (df_temp['multi_class_target'] == action)]\n",
    "    df_time['next_time_act'] = df_time[['client_pin', 'timestamp']].groupby(['client_pin']).shift(-1)\n",
    "    df_time.dropna(inplace=True)\n",
    "    df_time[f'mean_timedelta_{action}'] = (df_time['next_time_act'] - df_time['timestamp']) / np.timedelta64(1, 'h')\n",
    "    df_time = df_time[['client_pin', f'mean_timedelta_{action}']].groupby('client_pin').mean()\n",
    "    df_stat = df_stat.merge(df_time, how='left', on='client_pin')\n",
    "    df_stat = df_stat.merge(df_temp.loc[(~df_temp['session_id'].isin(last_ses)) & (df_temp['multi_class_target'] == action)].groupby(['client_pin']).tail(1)[['client_pin', 'timedelta_act']].rename({'timedelta_act':f'timedelta_{action}'}, axis=1), \n",
    "                            how='left', on='client_pin')\n",
    "    df_stat[f'err_timedelta_{action}'] = np.abs(df_stat[f'mean_timedelta_{action}'] - df_stat[f'timedelta_{action}'])\n",
    "    df_stat[f'timedelta_{action}'].fillna(10000, inplace=True)\n",
    "    df_stat[f'mean_timedelta_{action}'].fillna(10000, inplace=True)\n",
    "    df_stat[f'err_timedelta_{action}'].fillna(10000, inplace=True)"
   ]
  },
  {
   "cell_type": "code",
   "execution_count": 16,
   "metadata": {
    "execution": {
     "iopub.execute_input": "2021-01-12T15:09:25.658642Z",
     "iopub.status.busy": "2021-01-12T15:09:25.657895Z",
     "iopub.status.idle": "2021-01-12T15:09:25.662225Z",
     "shell.execute_reply": "2021-01-12T15:09:25.662892Z"
    },
    "papermill": {
     "duration": 0.073492,
     "end_time": "2021-01-12T15:09:25.663059",
     "exception": false,
     "start_time": "2021-01-12T15:09:25.589567",
     "status": "completed"
    },
    "tags": []
   },
   "outputs": [],
   "source": [
    "from_parq = ['application_id', 'event_type', 'event_category', 'event_name',\n",
    "       'event_label', 'device_screen_name', 'timezone', 'device_is_webview',\n",
    "       'page_urlhost', 'page_urlpath_full', 'net_connection_type',\n",
    "       'net_connection_tech', 'timedelta', 'count']"
   ]
  },
  {
   "cell_type": "code",
   "execution_count": 17,
   "metadata": {
    "execution": {
     "iopub.execute_input": "2021-01-12T15:09:25.798307Z",
     "iopub.status.busy": "2021-01-12T15:09:25.797666Z",
     "iopub.status.idle": "2021-01-12T15:09:31.460691Z",
     "shell.execute_reply": "2021-01-12T15:09:31.461251Z"
    },
    "papermill": {
     "duration": 5.732388,
     "end_time": "2021-01-12T15:09:31.461404",
     "exception": false,
     "start_time": "2021-01-12T15:09:25.729016",
     "status": "completed"
    },
    "tags": []
   },
   "outputs": [],
   "source": [
    "df_stat = df_stat.merge(df_temp.loc[~df_temp['session_id'].isin(last_ses)].groupby('client_pin').tail(1)[from_parq+['client_pin']], \n",
    "                            how='left', on='client_pin')"
   ]
  },
  {
   "cell_type": "code",
   "execution_count": 18,
   "metadata": {
    "execution": {
     "iopub.execute_input": "2021-01-12T15:09:31.597816Z",
     "iopub.status.busy": "2021-01-12T15:09:31.596809Z",
     "iopub.status.idle": "2021-01-12T15:09:52.465808Z",
     "shell.execute_reply": "2021-01-12T15:09:52.465143Z"
    },
    "papermill": {
     "duration": 20.938025,
     "end_time": "2021-01-12T15:09:52.465954",
     "exception": false,
     "start_time": "2021-01-12T15:09:31.527929",
     "status": "completed"
    },
    "tags": []
   },
   "outputs": [
    {
     "name": "stderr",
     "output_type": "stream",
     "text": [
      "/opt/conda/lib/python3.7/site-packages/ipykernel_launcher.py:2: SettingWithCopyWarning: \n",
      "A value is trying to be set on a copy of a slice from a DataFrame.\n",
      "Try using .loc[row_indexer,col_indexer] = value instead\n",
      "\n",
      "See the caveats in the documentation: https://pandas.pydata.org/pandas-docs/stable/user_guide/indexing.html#returning-a-view-versus-a-copy\n",
      "  \n",
      "/opt/conda/lib/python3.7/site-packages/pandas/core/frame.py:4174: SettingWithCopyWarning: \n",
      "A value is trying to be set on a copy of a slice from a DataFrame\n",
      "\n",
      "See the caveats in the documentation: https://pandas.pydata.org/pandas-docs/stable/user_guide/indexing.html#returning-a-view-versus-a-copy\n",
      "  errors=errors,\n"
     ]
    }
   ],
   "source": [
    "exp_df = df[['session_id', 'client_pin', 'multi_class_target']]\n",
    "exp_df['row_number'] = exp_df.groupby(['client_pin']).cumcount()+1\n",
    "exp_df.drop(['session_id'], axis=1, inplace=True)\n",
    "exp_df.set_index(['client_pin', 'row_number'])\n",
    "exp_df = exp_df.groupby(['client_pin']).tail(35)\n",
    "exp_df['row_number'] = exp_df.groupby('client_pin').rank(ascending=False).astype('int32')\n",
    "exp_df.set_index(['client_pin', 'row_number'], inplace=True)\n",
    "df_lag = pd.DataFrame()\n",
    "df_lag['total'] = [0]*len(df['client_pin'].unique())*35\n",
    "pins = df['client_pin'].unique()\n",
    "lags = list(range(1, 36))\n",
    "index = pd.MultiIndex.from_product([pins, lags], names=['client_pin', 'row_number'])\n",
    "df_lag.set_index(index, inplace=True)\n",
    "df_lag = df_lag.merge(exp_df, how='left', on=['client_pin', 'row_number'])\n",
    "df_lag.drop(['total'], axis=1, inplace=True)\n",
    "df_lag = df_lag.unstack().add_prefix('lag_').rename_axis([None, None], axis=1)\n",
    "df_lag.columns = df_lag.columns.droplevel(0)\n",
    "df_lag['weight'] = 1\n",
    "df_lag.reset_index(inplace=True)"
   ]
  },
  {
   "cell_type": "code",
   "execution_count": 19,
   "metadata": {
    "execution": {
     "iopub.execute_input": "2021-01-12T15:09:52.608360Z",
     "iopub.status.busy": "2021-01-12T15:09:52.604907Z",
     "iopub.status.idle": "2021-01-12T15:09:52.855515Z",
     "shell.execute_reply": "2021-01-12T15:09:52.854767Z"
    },
    "papermill": {
     "duration": 0.322668,
     "end_time": "2021-01-12T15:09:52.855635",
     "exception": false,
     "start_time": "2021-01-12T15:09:52.532967",
     "status": "completed"
    },
    "tags": []
   },
   "outputs": [],
   "source": [
    "df_lag = df_lag.merge(df_stat, how='left', on='client_pin')"
   ]
  },
  {
   "cell_type": "code",
   "execution_count": 20,
   "metadata": {
    "execution": {
     "iopub.execute_input": "2021-01-12T15:09:53.003577Z",
     "iopub.status.busy": "2021-01-12T15:09:53.002836Z",
     "iopub.status.idle": "2021-01-12T15:11:14.315436Z",
     "shell.execute_reply": "2021-01-12T15:11:14.314305Z"
    },
    "papermill": {
     "duration": 81.392396,
     "end_time": "2021-01-12T15:11:14.315588",
     "exception": false,
     "start_time": "2021-01-12T15:09:52.923192",
     "status": "completed"
    },
    "tags": []
   },
   "outputs": [],
   "source": [
    "df_train = pd.read_csv('../input/alfabattle-1-stat/alfa1_df_train6.csv')"
   ]
  },
  {
   "cell_type": "code",
   "execution_count": 21,
   "metadata": {
    "execution": {
     "iopub.execute_input": "2021-01-12T15:11:14.463415Z",
     "iopub.status.busy": "2021-01-12T15:11:14.462735Z",
     "iopub.status.idle": "2021-01-12T15:11:17.100242Z",
     "shell.execute_reply": "2021-01-12T15:11:17.099540Z"
    },
    "papermill": {
     "duration": 2.717408,
     "end_time": "2021-01-12T15:11:17.100358",
     "exception": false,
     "start_time": "2021-01-12T15:11:14.382950",
     "status": "completed"
    },
    "tags": []
   },
   "outputs": [],
   "source": [
    "df_valid = pd.read_csv('../input/alfabattle-1-stat/alfa1_df_valid6.csv')"
   ]
  },
  {
   "cell_type": "code",
   "execution_count": 22,
   "metadata": {
    "execution": {
     "iopub.execute_input": "2021-01-12T15:11:17.238342Z",
     "iopub.status.busy": "2021-01-12T15:11:17.237665Z",
     "iopub.status.idle": "2021-01-12T15:11:29.714027Z",
     "shell.execute_reply": "2021-01-12T15:11:29.713317Z"
    },
    "papermill": {
     "duration": 12.546217,
     "end_time": "2021-01-12T15:11:29.714143",
     "exception": false,
     "start_time": "2021-01-12T15:11:17.167926",
     "status": "completed"
    },
    "tags": []
   },
   "outputs": [],
   "source": [
    "df_train.fillna('nothing', inplace=True)"
   ]
  },
  {
   "cell_type": "code",
   "execution_count": 23,
   "metadata": {
    "execution": {
     "iopub.execute_input": "2021-01-12T15:11:29.857989Z",
     "iopub.status.busy": "2021-01-12T15:11:29.857250Z",
     "iopub.status.idle": "2021-01-12T15:11:30.209492Z",
     "shell.execute_reply": "2021-01-12T15:11:30.208877Z"
    },
    "papermill": {
     "duration": 0.427819,
     "end_time": "2021-01-12T15:11:30.209610",
     "exception": false,
     "start_time": "2021-01-12T15:11:29.781791",
     "status": "completed"
    },
    "tags": []
   },
   "outputs": [],
   "source": [
    "df_valid.fillna('nothing', inplace=True)"
   ]
  },
  {
   "cell_type": "code",
   "execution_count": 24,
   "metadata": {
    "execution": {
     "iopub.execute_input": "2021-01-12T15:11:30.350277Z",
     "iopub.status.busy": "2021-01-12T15:11:30.349580Z",
     "iopub.status.idle": "2021-01-12T15:11:30.772263Z",
     "shell.execute_reply": "2021-01-12T15:11:30.772809Z"
    },
    "papermill": {
     "duration": 0.495383,
     "end_time": "2021-01-12T15:11:30.772983",
     "exception": false,
     "start_time": "2021-01-12T15:11:30.277600",
     "status": "completed"
    },
    "tags": []
   },
   "outputs": [],
   "source": [
    "df_lag.fillna('nothing', inplace=True)"
   ]
  },
  {
   "cell_type": "code",
   "execution_count": 25,
   "metadata": {
    "execution": {
     "iopub.execute_input": "2021-01-12T15:11:30.918226Z",
     "iopub.status.busy": "2021-01-12T15:11:30.917535Z",
     "iopub.status.idle": "2021-01-12T15:11:30.922545Z",
     "shell.execute_reply": "2021-01-12T15:11:30.922011Z"
    },
    "papermill": {
     "duration": 0.080393,
     "end_time": "2021-01-12T15:11:30.922667",
     "exception": false,
     "start_time": "2021-01-12T15:11:30.842274",
     "status": "completed"
    },
    "tags": []
   },
   "outputs": [],
   "source": [
    "df_lag['lag_1'] = df_lag['lag_2']"
   ]
  },
  {
   "cell_type": "code",
   "execution_count": 26,
   "metadata": {
    "execution": {
     "iopub.execute_input": "2021-01-12T15:11:31.067652Z",
     "iopub.status.busy": "2021-01-12T15:11:31.066895Z",
     "iopub.status.idle": "2021-01-12T15:11:31.153780Z",
     "shell.execute_reply": "2021-01-12T15:11:31.153118Z"
    },
    "papermill": {
     "duration": 0.161604,
     "end_time": "2021-01-12T15:11:31.153914",
     "exception": false,
     "start_time": "2021-01-12T15:11:30.992310",
     "status": "completed"
    },
    "tags": []
   },
   "outputs": [],
   "source": [
    "df_lag = df_lag[df_valid.columns]"
   ]
  },
  {
   "cell_type": "code",
   "execution_count": 27,
   "metadata": {
    "execution": {
     "iopub.execute_input": "2021-01-12T15:11:31.295201Z",
     "iopub.status.busy": "2021-01-12T15:11:31.294493Z",
     "iopub.status.idle": "2021-01-12T15:11:39.746506Z",
     "shell.execute_reply": "2021-01-12T15:11:39.745852Z"
    },
    "papermill": {
     "duration": 8.524512,
     "end_time": "2021-01-12T15:11:39.746626",
     "exception": false,
     "start_time": "2021-01-12T15:11:31.222114",
     "status": "completed"
    },
    "tags": []
   },
   "outputs": [],
   "source": [
    "df_lag.to_csv('df_test_nn.csv', index=False)"
   ]
  },
  {
   "cell_type": "code",
   "execution_count": null,
   "metadata": {
    "papermill": {
     "duration": 0.069208,
     "end_time": "2021-01-12T15:11:39.884688",
     "exception": false,
     "start_time": "2021-01-12T15:11:39.815480",
     "status": "completed"
    },
    "tags": []
   },
   "outputs": [],
   "source": []
  },
  {
   "cell_type": "code",
   "execution_count": 28,
   "metadata": {
    "execution": {
     "iopub.execute_input": "2021-01-12T15:11:40.042970Z",
     "iopub.status.busy": "2021-01-12T15:11:40.042028Z",
     "iopub.status.idle": "2021-01-12T15:11:41.353807Z",
     "shell.execute_reply": "2021-01-12T15:11:41.352817Z"
    },
    "papermill": {
     "duration": 1.401391,
     "end_time": "2021-01-12T15:11:41.353968",
     "exception": false,
     "start_time": "2021-01-12T15:11:39.952577",
     "status": "completed"
    },
    "tags": []
   },
   "outputs": [
    {
     "name": "stdout",
     "output_type": "stream",
     "text": [
      "Memory usage of dataframe is 50.80MB\n",
      "Memory usage after optimization is: 13.10MB\n",
      "Decreased by 74.2%\n"
     ]
    }
   ],
   "source": [
    "df_lag = reduce_mem_usage(df_lag)"
   ]
  },
  {
   "cell_type": "code",
   "execution_count": null,
   "metadata": {
    "papermill": {
     "duration": 0.069023,
     "end_time": "2021-01-12T15:11:41.504673",
     "exception": false,
     "start_time": "2021-01-12T15:11:41.435650",
     "status": "completed"
    },
    "tags": []
   },
   "outputs": [],
   "source": []
  },
  {
   "cell_type": "code",
   "execution_count": 29,
   "metadata": {
    "execution": {
     "iopub.execute_input": "2021-01-12T15:11:42.950878Z",
     "iopub.status.busy": "2021-01-12T15:11:42.949827Z",
     "iopub.status.idle": "2021-01-12T15:11:42.954097Z",
     "shell.execute_reply": "2021-01-12T15:11:42.954618Z"
    },
    "papermill": {
     "duration": 1.38068,
     "end_time": "2021-01-12T15:11:42.954758",
     "exception": false,
     "start_time": "2021-01-12T15:11:41.574078",
     "status": "completed"
    },
    "tags": []
   },
   "outputs": [
    {
     "data": {
      "text/plain": [
       "30"
      ]
     },
     "execution_count": 29,
     "metadata": {},
     "output_type": "execute_result"
    }
   ],
   "source": [
    "del df\n",
    "del df_test\n",
    "del df_temp\n",
    "gc.collect()"
   ]
  },
  {
   "cell_type": "code",
   "execution_count": 30,
   "metadata": {
    "_cell_guid": "79c7e3d0-c299-4dcb-8224-4455121ee9b0",
    "_uuid": "d629ff2d2480ee46fbb7e2d37f6b5fab8052498a",
    "execution": {
     "iopub.execute_input": "2021-01-12T15:11:43.098726Z",
     "iopub.status.busy": "2021-01-12T15:11:43.097680Z",
     "iopub.status.idle": "2021-01-12T15:12:30.500472Z",
     "shell.execute_reply": "2021-01-12T15:12:30.498345Z"
    },
    "papermill": {
     "duration": 47.475041,
     "end_time": "2021-01-12T15:12:30.500688",
     "exception": false,
     "start_time": "2021-01-12T15:11:43.025647",
     "status": "completed"
    },
    "tags": []
   },
   "outputs": [],
   "source": [
    "df = pd.read_csv(\"../input/alfa-parq3/alfa1_train_expend3.csv\")"
   ]
  },
  {
   "cell_type": "code",
   "execution_count": 31,
   "metadata": {
    "execution": {
     "iopub.execute_input": "2021-01-12T15:12:30.683869Z",
     "iopub.status.busy": "2021-01-12T15:12:30.683132Z",
     "iopub.status.idle": "2021-01-12T15:12:30.871664Z",
     "shell.execute_reply": "2021-01-12T15:12:30.872174Z"
    },
    "papermill": {
     "duration": 0.272695,
     "end_time": "2021-01-12T15:12:30.872332",
     "exception": false,
     "start_time": "2021-01-12T15:12:30.599637",
     "status": "completed"
    },
    "tags": []
   },
   "outputs": [],
   "source": [
    "df_test = pd.read_csv('../input/alfabattle1/alfabattle2_prediction_session_timestamp.csv')"
   ]
  },
  {
   "cell_type": "code",
   "execution_count": 32,
   "metadata": {
    "execution": {
     "iopub.execute_input": "2021-01-12T15:12:31.017069Z",
     "iopub.status.busy": "2021-01-12T15:12:31.016409Z",
     "iopub.status.idle": "2021-01-12T15:12:35.888557Z",
     "shell.execute_reply": "2021-01-12T15:12:35.889128Z"
    },
    "papermill": {
     "duration": 4.945291,
     "end_time": "2021-01-12T15:12:35.889278",
     "exception": false,
     "start_time": "2021-01-12T15:12:30.943987",
     "status": "completed"
    },
    "tags": []
   },
   "outputs": [],
   "source": [
    "df = pd.concat((df, df_test)).reset_index(drop=True)"
   ]
  },
  {
   "cell_type": "code",
   "execution_count": 33,
   "metadata": {
    "execution": {
     "iopub.execute_input": "2021-01-12T15:12:36.033407Z",
     "iopub.status.busy": "2021-01-12T15:12:36.032735Z",
     "iopub.status.idle": "2021-01-12T15:13:25.975901Z",
     "shell.execute_reply": "2021-01-12T15:13:25.976465Z"
    },
    "papermill": {
     "duration": 50.017723,
     "end_time": "2021-01-12T15:13:25.976613",
     "exception": false,
     "start_time": "2021-01-12T15:12:35.958890",
     "status": "completed"
    },
    "tags": []
   },
   "outputs": [],
   "source": [
    "df = df.sort_values(by=['client_pin', 'timestamp'])"
   ]
  },
  {
   "cell_type": "code",
   "execution_count": 34,
   "metadata": {
    "execution": {
     "iopub.execute_input": "2021-01-12T15:13:28.745355Z",
     "iopub.status.busy": "2021-01-12T15:13:28.744636Z",
     "iopub.status.idle": "2021-01-12T15:13:30.088012Z",
     "shell.execute_reply": "2021-01-12T15:13:30.087319Z"
    },
    "papermill": {
     "duration": 4.03873,
     "end_time": "2021-01-12T15:13:30.088125",
     "exception": false,
     "start_time": "2021-01-12T15:13:26.049395",
     "status": "completed"
    },
    "tags": []
   },
   "outputs": [],
   "source": [
    "df['timestamp'] = pd.to_datetime(df['timestamp'])"
   ]
  },
  {
   "cell_type": "code",
   "execution_count": 35,
   "metadata": {
    "execution": {
     "iopub.execute_input": "2021-01-12T15:13:30.235522Z",
     "iopub.status.busy": "2021-01-12T15:13:30.233938Z",
     "iopub.status.idle": "2021-01-12T15:13:33.607235Z",
     "shell.execute_reply": "2021-01-12T15:13:33.606558Z"
    },
    "papermill": {
     "duration": 3.449244,
     "end_time": "2021-01-12T15:13:33.607349",
     "exception": false,
     "start_time": "2021-01-12T15:13:30.158105",
     "status": "completed"
    },
    "tags": []
   },
   "outputs": [],
   "source": [
    "df['session_id'].fillna(df['client_pin']+'0', inplace=True)"
   ]
  },
  {
   "cell_type": "code",
   "execution_count": 36,
   "metadata": {
    "execution": {
     "iopub.execute_input": "2021-01-12T15:13:33.754912Z",
     "iopub.status.busy": "2021-01-12T15:13:33.753352Z",
     "iopub.status.idle": "2021-01-12T15:13:35.466927Z",
     "shell.execute_reply": "2021-01-12T15:13:35.466217Z"
    },
    "papermill": {
     "duration": 1.789049,
     "end_time": "2021-01-12T15:13:35.467047",
     "exception": false,
     "start_time": "2021-01-12T15:13:33.677998",
     "status": "completed"
    },
    "tags": []
   },
   "outputs": [],
   "source": [
    "df_temp = df.copy()"
   ]
  },
  {
   "cell_type": "code",
   "execution_count": 37,
   "metadata": {
    "execution": {
     "iopub.execute_input": "2021-01-12T15:13:36.809978Z",
     "iopub.status.busy": "2021-01-12T15:13:35.616129Z",
     "iopub.status.idle": "2021-01-12T15:13:38.100771Z",
     "shell.execute_reply": "2021-01-12T15:13:38.099665Z"
    },
    "papermill": {
     "duration": 2.564042,
     "end_time": "2021-01-12T15:13:38.100947",
     "exception": false,
     "start_time": "2021-01-12T15:13:35.536905",
     "status": "completed"
    },
    "tags": []
   },
   "outputs": [],
   "source": [
    "df_stat = pd.DataFrame()\n",
    "df_stat['client_pin'] = df_temp['client_pin'].unique()"
   ]
  },
  {
   "cell_type": "code",
   "execution_count": 38,
   "metadata": {
    "execution": {
     "iopub.execute_input": "2021-01-12T15:13:38.816471Z",
     "iopub.status.busy": "2021-01-12T15:13:38.814821Z",
     "iopub.status.idle": "2021-01-12T15:13:41.122153Z",
     "shell.execute_reply": "2021-01-12T15:13:41.121457Z"
    },
    "papermill": {
     "duration": 2.95041,
     "end_time": "2021-01-12T15:13:41.122268",
     "exception": false,
     "start_time": "2021-01-12T15:13:38.171858",
     "status": "completed"
    },
    "tags": []
   },
   "outputs": [],
   "source": [
    "last_ses = df_temp.groupby('client_pin')['session_id'].tail(1).values"
   ]
  },
  {
   "cell_type": "code",
   "execution_count": 39,
   "metadata": {
    "execution": {
     "iopub.execute_input": "2021-01-12T15:13:43.430088Z",
     "iopub.status.busy": "2021-01-12T15:13:43.429187Z",
     "iopub.status.idle": "2021-01-12T15:13:43.433272Z",
     "shell.execute_reply": "2021-01-12T15:13:43.432214Z"
    },
    "papermill": {
     "duration": 2.240638,
     "end_time": "2021-01-12T15:13:43.433403",
     "exception": false,
     "start_time": "2021-01-12T15:13:41.192765",
     "status": "completed"
    },
    "tags": []
   },
   "outputs": [],
   "source": [
    "from_parq = list(df_temp.drop(['session_id', 'client_pin', 'timestamp', 'multi_class_target'], axis=1).columns)"
   ]
  },
  {
   "cell_type": "code",
   "execution_count": 40,
   "metadata": {
    "execution": {
     "iopub.execute_input": "2021-01-12T15:13:43.584839Z",
     "iopub.status.busy": "2021-01-12T15:13:43.583106Z",
     "iopub.status.idle": "2021-01-12T15:13:55.403993Z",
     "shell.execute_reply": "2021-01-12T15:13:55.403324Z"
    },
    "papermill": {
     "duration": 11.899367,
     "end_time": "2021-01-12T15:13:55.404138",
     "exception": false,
     "start_time": "2021-01-12T15:13:43.504771",
     "status": "completed"
    },
    "tags": []
   },
   "outputs": [],
   "source": [
    "df_stat = df_stat.merge(df_temp[['client_pin'] + from_parq].loc[~df_temp['session_id'].isin(last_ses)].groupby(['client_pin']).tail(1),\n",
    "                        how='left', on='client_pin')"
   ]
  },
  {
   "cell_type": "code",
   "execution_count": 41,
   "metadata": {
    "execution": {
     "iopub.execute_input": "2021-01-12T15:13:55.562092Z",
     "iopub.status.busy": "2021-01-12T15:13:55.561329Z",
     "iopub.status.idle": "2021-01-12T15:14:12.884635Z",
     "shell.execute_reply": "2021-01-12T15:14:12.883861Z"
    },
    "papermill": {
     "duration": 17.409802,
     "end_time": "2021-01-12T15:14:12.884760",
     "exception": false,
     "start_time": "2021-01-12T15:13:55.474958",
     "status": "completed"
    },
    "tags": []
   },
   "outputs": [
    {
     "name": "stderr",
     "output_type": "stream",
     "text": [
      "/opt/conda/lib/python3.7/site-packages/ipykernel_launcher.py:2: SettingWithCopyWarning: \n",
      "A value is trying to be set on a copy of a slice from a DataFrame.\n",
      "Try using .loc[row_indexer,col_indexer] = value instead\n",
      "\n",
      "See the caveats in the documentation: https://pandas.pydata.org/pandas-docs/stable/user_guide/indexing.html#returning-a-view-versus-a-copy\n",
      "  \n",
      "/opt/conda/lib/python3.7/site-packages/pandas/core/frame.py:4174: SettingWithCopyWarning: \n",
      "A value is trying to be set on a copy of a slice from a DataFrame\n",
      "\n",
      "See the caveats in the documentation: https://pandas.pydata.org/pandas-docs/stable/user_guide/indexing.html#returning-a-view-versus-a-copy\n",
      "  errors=errors,\n"
     ]
    }
   ],
   "source": [
    "exp_df = df[['session_id', 'client_pin', 'multi_class_target']]\n",
    "exp_df['row_number'] = exp_df.groupby(['client_pin']).cumcount()+1\n",
    "exp_df.drop(['session_id'], axis=1, inplace=True)\n",
    "exp_df.set_index(['client_pin', 'row_number'])\n",
    "exp_df = exp_df.groupby(['client_pin']).tail(2)\n",
    "exp_df['row_number'] = exp_df.groupby('client_pin').rank(ascending=False).astype('int32')\n",
    "exp_df.set_index(['client_pin', 'row_number'], inplace=True)\n",
    "df_lag_exp = pd.DataFrame()\n",
    "df_lag_exp['total'] = [0]*len(df['client_pin'].unique())*2\n",
    "pins = df['client_pin'].unique()\n",
    "lags = list(range(1, 3))\n",
    "index = pd.MultiIndex.from_product([pins, lags], names=['client_pin', 'row_number'])\n",
    "df_lag_exp.set_index(index, inplace=True)\n",
    "df_lag_exp = df_lag_exp.merge(exp_df, how='left', on=['client_pin', 'row_number'])\n",
    "df_lag_exp.drop(['total'], axis=1, inplace=True)\n",
    "df_lag_exp = df_lag_exp.unstack().add_prefix('lag_').rename_axis([None, None], axis=1)\n",
    "df_lag_exp.columns = df_lag_exp.columns.droplevel(0)\n",
    "df_lag_exp['weight'] = 1\n",
    "df_lag_exp.reset_index(inplace=True)"
   ]
  },
  {
   "cell_type": "code",
   "execution_count": 42,
   "metadata": {
    "execution": {
     "iopub.execute_input": "2021-01-12T15:14:13.041638Z",
     "iopub.status.busy": "2021-01-12T15:14:13.039962Z",
     "iopub.status.idle": "2021-01-12T15:14:13.188528Z",
     "shell.execute_reply": "2021-01-12T15:14:13.187959Z"
    },
    "papermill": {
     "duration": 0.230877,
     "end_time": "2021-01-12T15:14:13.188659",
     "exception": false,
     "start_time": "2021-01-12T15:14:12.957782",
     "status": "completed"
    },
    "tags": []
   },
   "outputs": [],
   "source": [
    "df_lag_exp = df_lag_exp.merge(df_stat, how='left', on='client_pin')"
   ]
  },
  {
   "cell_type": "code",
   "execution_count": 43,
   "metadata": {
    "execution": {
     "iopub.execute_input": "2021-01-12T15:14:13.341465Z",
     "iopub.status.busy": "2021-01-12T15:14:13.339191Z",
     "iopub.status.idle": "2021-01-12T15:14:19.556082Z",
     "shell.execute_reply": "2021-01-12T15:14:19.555020Z"
    },
    "papermill": {
     "duration": 6.29547,
     "end_time": "2021-01-12T15:14:19.556203",
     "exception": false,
     "start_time": "2021-01-12T15:14:13.260733",
     "status": "completed"
    },
    "tags": []
   },
   "outputs": [],
   "source": [
    "df_lag_exp.to_csv('df_test_exp.csv', index=False)"
   ]
  },
  {
   "cell_type": "code",
   "execution_count": 44,
   "metadata": {
    "execution": {
     "iopub.execute_input": "2021-01-12T15:14:19.719609Z",
     "iopub.status.busy": "2021-01-12T15:14:19.718951Z",
     "iopub.status.idle": "2021-01-12T15:14:20.351146Z",
     "shell.execute_reply": "2021-01-12T15:14:20.350587Z"
    },
    "papermill": {
     "duration": 0.723386,
     "end_time": "2021-01-12T15:14:20.351258",
     "exception": false,
     "start_time": "2021-01-12T15:14:19.627872",
     "status": "completed"
    },
    "tags": []
   },
   "outputs": [
    {
     "name": "stdout",
     "output_type": "stream",
     "text": [
      "Memory usage of dataframe is 39.31MB\n",
      "Memory usage after optimization is: 13.31MB\n",
      "Decreased by 66.1%\n"
     ]
    }
   ],
   "source": [
    "df_lag_exp = reduce_mem_usage(df_lag_exp)"
   ]
  },
  {
   "cell_type": "code",
   "execution_count": 45,
   "metadata": {
    "execution": {
     "iopub.execute_input": "2021-01-12T15:14:20.542069Z",
     "iopub.status.busy": "2021-01-12T15:14:20.541314Z",
     "iopub.status.idle": "2021-01-12T15:14:21.967669Z",
     "shell.execute_reply": "2021-01-12T15:14:21.968162Z"
    },
    "papermill": {
     "duration": 1.529196,
     "end_time": "2021-01-12T15:14:21.968296",
     "exception": false,
     "start_time": "2021-01-12T15:14:20.439100",
     "status": "completed"
    },
    "tags": []
   },
   "outputs": [
    {
     "data": {
      "text/plain": [
       "20"
      ]
     },
     "execution_count": 45,
     "metadata": {},
     "output_type": "execute_result"
    }
   ],
   "source": [
    "del df\n",
    "del df_test\n",
    "del df_temp\n",
    "gc.collect()"
   ]
  },
  {
   "cell_type": "code",
   "execution_count": 46,
   "metadata": {
    "execution": {
     "iopub.execute_input": "2021-01-12T15:14:22.129401Z",
     "iopub.status.busy": "2021-01-12T15:14:22.128716Z",
     "iopub.status.idle": "2021-01-12T15:16:05.259111Z",
     "shell.execute_reply": "2021-01-12T15:16:05.259631Z"
    },
    "papermill": {
     "duration": 103.217903,
     "end_time": "2021-01-12T15:16:05.259797",
     "exception": false,
     "start_time": "2021-01-12T15:14:22.041894",
     "status": "completed"
    },
    "tags": []
   },
   "outputs": [],
   "source": [
    "df = pd.read_csv(\"../input/alfa-parq3/alfa1_train_expend4.csv\")\n",
    "df_test = pd.read_csv('../input/alfabattle1/alfabattle2_prediction_session_timestamp.csv')\n",
    "df = pd.concat((df, df_test)).reset_index(drop=True)\n",
    "df = df.sort_values(by=['client_pin', 'timestamp'])\n",
    "df['timestamp'] = pd.to_datetime(df['timestamp'])\n",
    "df['session_id'].fillna(df['client_pin']+'0', inplace=True)"
   ]
  },
  {
   "cell_type": "code",
   "execution_count": 47,
   "metadata": {
    "execution": {
     "iopub.execute_input": "2021-01-12T15:16:05.411895Z",
     "iopub.status.busy": "2021-01-12T15:16:05.411133Z",
     "iopub.status.idle": "2021-01-12T15:16:07.116212Z",
     "shell.execute_reply": "2021-01-12T15:16:07.115487Z"
    },
    "papermill": {
     "duration": 1.782861,
     "end_time": "2021-01-12T15:16:07.116333",
     "exception": false,
     "start_time": "2021-01-12T15:16:05.333472",
     "status": "completed"
    },
    "tags": []
   },
   "outputs": [],
   "source": [
    "df_temp = df.copy()"
   ]
  },
  {
   "cell_type": "code",
   "execution_count": 48,
   "metadata": {
    "execution": {
     "iopub.execute_input": "2021-01-12T15:16:08.508350Z",
     "iopub.status.busy": "2021-01-12T15:16:07.276108Z",
     "iopub.status.idle": "2021-01-12T15:16:09.840878Z",
     "shell.execute_reply": "2021-01-12T15:16:09.840121Z"
    },
    "papermill": {
     "duration": 2.647291,
     "end_time": "2021-01-12T15:16:09.841018",
     "exception": false,
     "start_time": "2021-01-12T15:16:07.193727",
     "status": "completed"
    },
    "tags": []
   },
   "outputs": [],
   "source": [
    "df_stat = pd.DataFrame()\n",
    "df_stat['client_pin'] = df_temp['client_pin'].unique()"
   ]
  },
  {
   "cell_type": "code",
   "execution_count": 49,
   "metadata": {
    "execution": {
     "iopub.execute_input": "2021-01-12T15:16:10.600962Z",
     "iopub.status.busy": "2021-01-12T15:16:10.599254Z",
     "iopub.status.idle": "2021-01-12T15:16:12.950252Z",
     "shell.execute_reply": "2021-01-12T15:16:12.949659Z"
    },
    "papermill": {
     "duration": 3.033899,
     "end_time": "2021-01-12T15:16:12.950364",
     "exception": false,
     "start_time": "2021-01-12T15:16:09.916465",
     "status": "completed"
    },
    "tags": []
   },
   "outputs": [],
   "source": [
    "last_ses = df_temp.groupby('client_pin')['session_id'].tail(1).values"
   ]
  },
  {
   "cell_type": "code",
   "execution_count": 50,
   "metadata": {
    "execution": {
     "iopub.execute_input": "2021-01-12T15:16:14.082722Z",
     "iopub.status.busy": "2021-01-12T15:16:14.081998Z",
     "iopub.status.idle": "2021-01-12T15:16:14.085496Z",
     "shell.execute_reply": "2021-01-12T15:16:14.084833Z"
    },
    "papermill": {
     "duration": 1.060829,
     "end_time": "2021-01-12T15:16:14.085654",
     "exception": false,
     "start_time": "2021-01-12T15:16:13.024825",
     "status": "completed"
    },
    "tags": []
   },
   "outputs": [],
   "source": [
    "from_parq = list(df_temp.drop(['session_id', 'client_pin', 'timestamp', 'multi_class_target'], axis=1).columns)"
   ]
  },
  {
   "cell_type": "code",
   "execution_count": 51,
   "metadata": {
    "execution": {
     "iopub.execute_input": "2021-01-12T15:16:14.242567Z",
     "iopub.status.busy": "2021-01-12T15:16:14.241909Z",
     "iopub.status.idle": "2021-01-12T15:16:24.467886Z",
     "shell.execute_reply": "2021-01-12T15:16:24.466655Z"
    },
    "papermill": {
     "duration": 10.306838,
     "end_time": "2021-01-12T15:16:24.468034",
     "exception": false,
     "start_time": "2021-01-12T15:16:14.161196",
     "status": "completed"
    },
    "tags": []
   },
   "outputs": [],
   "source": [
    "df_stat = df_stat.merge(df_temp[['client_pin'] + from_parq].loc[~df_temp['session_id'].isin(last_ses)].groupby(['client_pin']).tail(1),\n",
    "                        how='left', on='client_pin')"
   ]
  },
  {
   "cell_type": "code",
   "execution_count": 52,
   "metadata": {
    "execution": {
     "iopub.execute_input": "2021-01-12T15:16:24.633391Z",
     "iopub.status.busy": "2021-01-12T15:16:24.632666Z",
     "iopub.status.idle": "2021-01-12T15:16:48.002817Z",
     "shell.execute_reply": "2021-01-12T15:16:48.003383Z"
    },
    "papermill": {
     "duration": 23.460987,
     "end_time": "2021-01-12T15:16:48.003842",
     "exception": false,
     "start_time": "2021-01-12T15:16:24.542855",
     "status": "completed"
    },
    "tags": []
   },
   "outputs": [
    {
     "name": "stderr",
     "output_type": "stream",
     "text": [
      "/opt/conda/lib/python3.7/site-packages/ipykernel_launcher.py:2: SettingWithCopyWarning: \n",
      "A value is trying to be set on a copy of a slice from a DataFrame.\n",
      "Try using .loc[row_indexer,col_indexer] = value instead\n",
      "\n",
      "See the caveats in the documentation: https://pandas.pydata.org/pandas-docs/stable/user_guide/indexing.html#returning-a-view-versus-a-copy\n",
      "  \n",
      "/opt/conda/lib/python3.7/site-packages/pandas/core/frame.py:4174: SettingWithCopyWarning: \n",
      "A value is trying to be set on a copy of a slice from a DataFrame\n",
      "\n",
      "See the caveats in the documentation: https://pandas.pydata.org/pandas-docs/stable/user_guide/indexing.html#returning-a-view-versus-a-copy\n",
      "  errors=errors,\n"
     ]
    }
   ],
   "source": [
    "exp_df = df[['session_id', 'client_pin', 'multi_class_target']]\n",
    "exp_df['row_number'] = exp_df.groupby(['client_pin']).cumcount()+1\n",
    "exp_df.drop(['session_id'], axis=1, inplace=True)\n",
    "exp_df.set_index(['client_pin', 'row_number'])\n",
    "exp_df = exp_df.groupby(['client_pin']).tail(2)\n",
    "exp_df['row_number'] = exp_df.groupby('client_pin').rank(ascending=False).astype('int32')\n",
    "exp_df.set_index(['client_pin', 'row_number'], inplace=True)\n",
    "df_lag_exp1 = pd.DataFrame()\n",
    "df_lag_exp1['total'] = [0]*len(df['client_pin'].unique())*2\n",
    "pins = df['client_pin'].unique()\n",
    "lags = list(range(1, 3))\n",
    "index = pd.MultiIndex.from_product([pins, lags], names=['client_pin', 'row_number'])\n",
    "df_lag_exp1.set_index(index, inplace=True)\n",
    "df_lag_exp1 = df_lag_exp1.merge(exp_df, how='left', on=['client_pin', 'row_number'])\n",
    "df_lag_exp1.drop(['total'], axis=1, inplace=True)\n",
    "df_lag_exp1 = df_lag_exp1.unstack().add_prefix('lag_').rename_axis([None, None], axis=1)\n",
    "df_lag_exp1.columns = df_lag_exp1.columns.droplevel(0)\n",
    "df_lag_exp1['weight'] = 1\n",
    "df_lag_exp1.reset_index(inplace=True)"
   ]
  },
  {
   "cell_type": "code",
   "execution_count": 53,
   "metadata": {
    "execution": {
     "iopub.execute_input": "2021-01-12T15:16:48.172454Z",
     "iopub.status.busy": "2021-01-12T15:16:48.171744Z",
     "iopub.status.idle": "2021-01-12T15:16:48.335707Z",
     "shell.execute_reply": "2021-01-12T15:16:48.334907Z"
    },
    "papermill": {
     "duration": 0.253096,
     "end_time": "2021-01-12T15:16:48.335841",
     "exception": false,
     "start_time": "2021-01-12T15:16:48.082745",
     "status": "completed"
    },
    "tags": []
   },
   "outputs": [],
   "source": [
    "df_lag_exp1 = df_lag_exp1.merge(df_stat, how='left', on='client_pin')"
   ]
  },
  {
   "cell_type": "code",
   "execution_count": 54,
   "metadata": {
    "execution": {
     "iopub.execute_input": "2021-01-12T15:16:48.493581Z",
     "iopub.status.busy": "2021-01-12T15:16:48.491968Z",
     "iopub.status.idle": "2021-01-12T15:16:54.670304Z",
     "shell.execute_reply": "2021-01-12T15:16:54.669513Z"
    },
    "papermill": {
     "duration": 6.25887,
     "end_time": "2021-01-12T15:16:54.670534",
     "exception": false,
     "start_time": "2021-01-12T15:16:48.411664",
     "status": "completed"
    },
    "tags": []
   },
   "outputs": [],
   "source": [
    "df_lag_exp1.to_csv('df_test_exp1.csv', index=False)"
   ]
  },
  {
   "cell_type": "code",
   "execution_count": 55,
   "metadata": {
    "execution": {
     "iopub.execute_input": "2021-01-12T15:16:54.844546Z",
     "iopub.status.busy": "2021-01-12T15:16:54.843798Z",
     "iopub.status.idle": "2021-01-12T15:16:55.601261Z",
     "shell.execute_reply": "2021-01-12T15:16:55.600698Z"
    },
    "papermill": {
     "duration": 0.855369,
     "end_time": "2021-01-12T15:16:55.601386",
     "exception": false,
     "start_time": "2021-01-12T15:16:54.746017",
     "status": "completed"
    },
    "tags": []
   },
   "outputs": [
    {
     "name": "stdout",
     "output_type": "stream",
     "text": [
      "Memory usage of dataframe is 39.31MB\n",
      "Memory usage after optimization is: 13.31MB\n",
      "Decreased by 66.1%\n"
     ]
    }
   ],
   "source": [
    "df_lag_exp1 = reduce_mem_usage(df_lag_exp1)"
   ]
  },
  {
   "cell_type": "code",
   "execution_count": 56,
   "metadata": {
    "execution": {
     "iopub.execute_input": "2021-01-12T15:16:57.387688Z",
     "iopub.status.busy": "2021-01-12T15:16:56.185563Z",
     "iopub.status.idle": "2021-01-12T15:16:57.517147Z",
     "shell.execute_reply": "2021-01-12T15:16:57.517722Z"
    },
    "papermill": {
     "duration": 1.840568,
     "end_time": "2021-01-12T15:16:57.517874",
     "exception": false,
     "start_time": "2021-01-12T15:16:55.677306",
     "status": "completed"
    },
    "tags": []
   },
   "outputs": [
    {
     "data": {
      "text/plain": [
       "20"
      ]
     },
     "execution_count": 56,
     "metadata": {},
     "output_type": "execute_result"
    }
   ],
   "source": [
    "del df\n",
    "del df_test\n",
    "del df_temp\n",
    "gc.collect()"
   ]
  },
  {
   "cell_type": "code",
   "execution_count": 57,
   "metadata": {
    "execution": {
     "iopub.execute_input": "2021-01-12T15:16:57.684534Z",
     "iopub.status.busy": "2021-01-12T15:16:57.683795Z",
     "iopub.status.idle": "2021-01-12T15:18:44.670714Z",
     "shell.execute_reply": "2021-01-12T15:18:44.669952Z"
    },
    "papermill": {
     "duration": 107.076824,
     "end_time": "2021-01-12T15:18:44.670860",
     "exception": false,
     "start_time": "2021-01-12T15:16:57.594036",
     "status": "completed"
    },
    "tags": []
   },
   "outputs": [],
   "source": [
    "df = pd.read_csv(\"../input/alfa-parq3/alfa1_train_expend5.csv\")\n",
    "df_test = pd.read_csv('../input/alfabattle1/alfabattle2_prediction_session_timestamp.csv')\n",
    "df = pd.concat((df, df_test)).reset_index(drop=True)\n",
    "df = df.sort_values(by=['client_pin', 'timestamp'])\n",
    "df['timestamp'] = pd.to_datetime(df['timestamp'])\n",
    "df['session_id'].fillna(df['client_pin']+'0', inplace=True)"
   ]
  },
  {
   "cell_type": "code",
   "execution_count": 58,
   "metadata": {
    "execution": {
     "iopub.execute_input": "2021-01-12T15:18:44.832348Z",
     "iopub.status.busy": "2021-01-12T15:18:44.831688Z",
     "iopub.status.idle": "2021-01-12T15:18:46.576805Z",
     "shell.execute_reply": "2021-01-12T15:18:46.576027Z"
    },
    "papermill": {
     "duration": 1.827927,
     "end_time": "2021-01-12T15:18:46.576932",
     "exception": false,
     "start_time": "2021-01-12T15:18:44.749005",
     "status": "completed"
    },
    "tags": []
   },
   "outputs": [],
   "source": [
    "df_temp = df.copy()"
   ]
  },
  {
   "cell_type": "code",
   "execution_count": 59,
   "metadata": {
    "execution": {
     "iopub.execute_input": "2021-01-12T15:18:47.418610Z",
     "iopub.status.busy": "2021-01-12T15:18:47.417911Z",
     "iopub.status.idle": "2021-01-12T15:18:49.702853Z",
     "shell.execute_reply": "2021-01-12T15:18:49.702241Z"
    },
    "papermill": {
     "duration": 3.04938,
     "end_time": "2021-01-12T15:18:49.702979",
     "exception": false,
     "start_time": "2021-01-12T15:18:46.653599",
     "status": "completed"
    },
    "tags": []
   },
   "outputs": [],
   "source": [
    "df_stat = pd.DataFrame()\n",
    "df_stat['client_pin'] = df_temp['client_pin'].unique()"
   ]
  },
  {
   "cell_type": "code",
   "execution_count": 60,
   "metadata": {
    "execution": {
     "iopub.execute_input": "2021-01-12T15:18:50.620418Z",
     "iopub.status.busy": "2021-01-12T15:18:50.618090Z",
     "iopub.status.idle": "2021-01-12T15:18:53.277534Z",
     "shell.execute_reply": "2021-01-12T15:18:53.276947Z"
    },
    "papermill": {
     "duration": 3.497205,
     "end_time": "2021-01-12T15:18:53.277663",
     "exception": false,
     "start_time": "2021-01-12T15:18:49.780458",
     "status": "completed"
    },
    "tags": []
   },
   "outputs": [],
   "source": [
    "last_ses = df_temp.groupby('client_pin')['session_id'].tail(1).values"
   ]
  },
  {
   "cell_type": "code",
   "execution_count": 61,
   "metadata": {
    "execution": {
     "iopub.execute_input": "2021-01-12T15:18:54.435987Z",
     "iopub.status.busy": "2021-01-12T15:18:54.434937Z",
     "iopub.status.idle": "2021-01-12T15:18:54.438226Z",
     "shell.execute_reply": "2021-01-12T15:18:54.437678Z"
    },
    "papermill": {
     "duration": 1.082607,
     "end_time": "2021-01-12T15:18:54.438337",
     "exception": false,
     "start_time": "2021-01-12T15:18:53.355730",
     "status": "completed"
    },
    "tags": []
   },
   "outputs": [],
   "source": [
    "from_parq = list(df_temp.drop(['session_id', 'client_pin', 'timestamp', 'multi_class_target'], axis=1).columns)"
   ]
  },
  {
   "cell_type": "code",
   "execution_count": 62,
   "metadata": {
    "execution": {
     "iopub.execute_input": "2021-01-12T15:18:54.602021Z",
     "iopub.status.busy": "2021-01-12T15:18:54.600324Z",
     "iopub.status.idle": "2021-01-12T15:19:06.294273Z",
     "shell.execute_reply": "2021-01-12T15:19:06.292988Z"
    },
    "papermill": {
     "duration": 11.778545,
     "end_time": "2021-01-12T15:19:06.294438",
     "exception": false,
     "start_time": "2021-01-12T15:18:54.515893",
     "status": "completed"
    },
    "tags": []
   },
   "outputs": [],
   "source": [
    "df_stat = df_stat.merge(df_temp[['client_pin'] + from_parq].loc[~df_temp['session_id'].isin(last_ses)].groupby(['client_pin']).tail(1),\n",
    "                        how='left', on='client_pin')"
   ]
  },
  {
   "cell_type": "code",
   "execution_count": 63,
   "metadata": {
    "execution": {
     "iopub.execute_input": "2021-01-12T15:19:06.464918Z",
     "iopub.status.busy": "2021-01-12T15:19:06.464206Z",
     "iopub.status.idle": "2021-01-12T15:19:27.558270Z",
     "shell.execute_reply": "2021-01-12T15:19:27.557730Z"
    },
    "papermill": {
     "duration": 21.186843,
     "end_time": "2021-01-12T15:19:27.558393",
     "exception": false,
     "start_time": "2021-01-12T15:19:06.371550",
     "status": "completed"
    },
    "tags": []
   },
   "outputs": [
    {
     "name": "stderr",
     "output_type": "stream",
     "text": [
      "/opt/conda/lib/python3.7/site-packages/ipykernel_launcher.py:2: SettingWithCopyWarning: \n",
      "A value is trying to be set on a copy of a slice from a DataFrame.\n",
      "Try using .loc[row_indexer,col_indexer] = value instead\n",
      "\n",
      "See the caveats in the documentation: https://pandas.pydata.org/pandas-docs/stable/user_guide/indexing.html#returning-a-view-versus-a-copy\n",
      "  \n",
      "/opt/conda/lib/python3.7/site-packages/pandas/core/frame.py:4174: SettingWithCopyWarning: \n",
      "A value is trying to be set on a copy of a slice from a DataFrame\n",
      "\n",
      "See the caveats in the documentation: https://pandas.pydata.org/pandas-docs/stable/user_guide/indexing.html#returning-a-view-versus-a-copy\n",
      "  errors=errors,\n"
     ]
    }
   ],
   "source": [
    "exp_df = df[['session_id', 'client_pin', 'multi_class_target']]\n",
    "exp_df['row_number'] = exp_df.groupby(['client_pin']).cumcount()+1\n",
    "exp_df.drop(['session_id'], axis=1, inplace=True)\n",
    "exp_df.set_index(['client_pin', 'row_number'])\n",
    "exp_df = exp_df.groupby(['client_pin']).tail(2)\n",
    "exp_df['row_number'] = exp_df.groupby('client_pin').rank(ascending=False).astype('int32')\n",
    "exp_df.set_index(['client_pin', 'row_number'], inplace=True)\n",
    "df_lag_exp2 = pd.DataFrame()\n",
    "df_lag_exp2['total'] = [0]*len(df['client_pin'].unique())*2\n",
    "pins = df['client_pin'].unique()\n",
    "lags = list(range(1, 3))\n",
    "index = pd.MultiIndex.from_product([pins, lags], names=['client_pin', 'row_number'])\n",
    "df_lag_exp2.set_index(index, inplace=True)\n",
    "df_lag_exp2 = df_lag_exp2.merge(exp_df, how='left', on=['client_pin', 'row_number'])\n",
    "df_lag_exp2.drop(['total'], axis=1, inplace=True)\n",
    "df_lag_exp2 = df_lag_exp2.unstack().add_prefix('lag_').rename_axis([None, None], axis=1)\n",
    "df_lag_exp2.columns = df_lag_exp2.columns.droplevel(0)\n",
    "df_lag_exp2['weight'] = 1\n",
    "df_lag_exp2.reset_index(inplace=True)"
   ]
  },
  {
   "cell_type": "code",
   "execution_count": 64,
   "metadata": {
    "execution": {
     "iopub.execute_input": "2021-01-12T15:19:27.799597Z",
     "iopub.status.busy": "2021-01-12T15:19:27.793524Z",
     "iopub.status.idle": "2021-01-12T15:19:27.957176Z",
     "shell.execute_reply": "2021-01-12T15:19:27.956547Z"
    },
    "papermill": {
     "duration": 0.320737,
     "end_time": "2021-01-12T15:19:27.957285",
     "exception": false,
     "start_time": "2021-01-12T15:19:27.636548",
     "status": "completed"
    },
    "tags": []
   },
   "outputs": [],
   "source": [
    "df_lag_exp2 = df_lag_exp2.merge(df_stat, how='left', on='client_pin')"
   ]
  },
  {
   "cell_type": "code",
   "execution_count": 65,
   "metadata": {
    "execution": {
     "iopub.execute_input": "2021-01-12T15:19:28.122364Z",
     "iopub.status.busy": "2021-01-12T15:19:28.121731Z",
     "iopub.status.idle": "2021-01-12T15:19:34.370861Z",
     "shell.execute_reply": "2021-01-12T15:19:34.369334Z"
    },
    "papermill": {
     "duration": 6.334641,
     "end_time": "2021-01-12T15:19:34.371000",
     "exception": false,
     "start_time": "2021-01-12T15:19:28.036359",
     "status": "completed"
    },
    "tags": []
   },
   "outputs": [],
   "source": [
    "df_lag_exp2.to_csv('df_test_exp2.csv', index=False)"
   ]
  }
 ],
 "metadata": {
  "kernelspec": {
   "display_name": "Python 3",
   "language": "python",
   "name": "python3"
  },
  "language_info": {
   "codemirror_mode": {
    "name": "ipython",
    "version": 3
   },
   "file_extension": ".py",
   "mimetype": "text/x-python",
   "name": "python",
   "nbconvert_exporter": "python",
   "pygments_lexer": "ipython3",
   "version": "3.7.3"
  },
  "papermill": {
   "duration": 1258.461668,
   "end_time": "2021-01-12T15:26:33.349873",
   "environment_variables": {},
   "exception": null,
   "input_path": "__notebook__.ipynb",
   "output_path": "__notebook__.ipynb",
   "parameters": {},
   "start_time": "2021-01-12T15:05:34.888205",
   "version": "2.1.0"
  }
 },
 "nbformat": 4,
 "nbformat_minor": 4
}
