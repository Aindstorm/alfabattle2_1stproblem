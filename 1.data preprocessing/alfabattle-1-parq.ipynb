{
 "cells": [
  {
   "cell_type": "markdown",
   "metadata": {},
   "source": [
    "В данном ноутбуке к сырым данным из трейна добавим несколько таких же сырых колонок из паркетных файлов"
   ]
  },
  {
   "cell_type": "code",
   "execution_count": 3,
   "metadata": {
    "_cell_guid": "b1076dfc-b9ad-4769-8c92-a6c4dae69d19",
    "_uuid": "8f2839f25d086af736a60e9eeb907d3b93b6e0e5"
   },
   "outputs": [],
   "source": [
    "import numpy as np\n",
    "import pandas as pd\n",
    "import gc\n",
    "import os\n",
    "import re\n",
    "from sklearn.model_selection import train_test_split\n",
    "from catboost import CatBoostClassifier"
   ]
  },
  {
   "cell_type": "code",
   "execution_count": 4,
   "metadata": {},
   "outputs": [],
   "source": [
    "#путь до паркетных файлов\n",
    "sourcedir = '../input/alfabattle1/alfabattle2_abattle_clickstream/'"
   ]
  },
  {
   "cell_type": "code",
   "execution_count": 5,
   "metadata": {},
   "outputs": [],
   "source": [
    "#получаем список файлов из директории выше\n",
    "filenames = sorted(os.listdir(sourcedir))"
   ]
  },
  {
   "cell_type": "code",
   "execution_count": null,
   "metadata": {
    "_cell_guid": "79c7e3d0-c299-4dcb-8224-4455121ee9b0",
    "_uuid": "d629ff2d2480ee46fbb7e2d37f6b5fab8052498a"
   },
   "outputs": [],
   "source": [
    "#подгружаем таргеты из трейна\n",
    "df = pd.read_csv(\"../input/alfabattle1/alfabattle2_abattle_train_target.csv\")"
   ]
  },
  {
   "cell_type": "code",
   "execution_count": null,
   "metadata": {},
   "outputs": [],
   "source": [
    "#итеративно читаем паркетники, обрабатываем и в конце конкатенируем между собой\n",
    "concat_list = []\n",
    "for filename in filenames:\n",
    "    #читаем, преобразуем колонку времени ко времени, сортируем по клиентам и времени, оставляем сессии только с таргетом\n",
    "    parq0 = pd.read_parquet(sourcedir + filename)\n",
    "    parq0['timestamp'] = pd.to_datetime(parq0['timestamp'])\n",
    "    parq0 = parq0.sort_values(by=['client', 'timestamp'])\n",
    "    parq0 = parq0.merge(df[['session_id', 'client_pin', 'multi_class_target']], left_on=['client', 'session_id'], right_on=['client_pin', 'session_id'], how='left')\n",
    "    parq0.drop(['client_pin'], axis=1, inplace=True)\n",
    "    parq0 = parq0.loc[parq0['multi_class_target'].notnull()]\n",
    "    #оставляем по каждой сессии только последние строки\n",
    "    df_group = parq0.loc[parq0['multi_class_target'].notnull()].groupby(['client', 'session_id']).tail(1)\n",
    "    df_group.fillna('nothing', inplace=True)\n",
    "    #также считаем общее время сессии и число действий в ней    \n",
    "    df_group = df_group.merge(parq0[['timestamp', 'client', 'session_id']].groupby(['client', 'session_id']).head(1).rename({'timestamp':'start_time'}, axis=1),\n",
    "                       how='left', on=['client', 'session_id'])\n",
    "    df_group = df_group.merge(parq0[['timestamp', 'client', 'session_id']].groupby(['client', 'session_id']).tail(1).rename({'timestamp':'end_time'}, axis=1),\n",
    "                       how='left', on=['client', 'session_id'])\n",
    "    df_group['timedelta'] = (df_group['end_time'] - df_group['start_time']) / np.timedelta64(1, 'h')\n",
    "\n",
    "    df_group = df_group.merge(parq0[['timestamp', 'client', 'session_id']].groupby(['client', 'session_id']).count().rename({'timestamp':'count'}, axis=1),\n",
    "                       how='left', on=['client', 'session_id'])\n",
    "\n",
    "    df_group.drop(['timestamp', 'start_time', 'end_time', 'multi_class_target'], axis=1, inplace=True)\n",
    "    concat_list.append(df_group)\n",
    "    del df_group\n",
    "    del parq0\n",
    "    gc.collect()"
   ]
  },
  {
   "cell_type": "code",
   "execution_count": null,
   "metadata": {},
   "outputs": [],
   "source": [
    "df_con = pd.concat(concat_list)"
   ]
  },
  {
   "cell_type": "code",
   "execution_count": null,
   "metadata": {},
   "outputs": [],
   "source": [
    "#по категориальным колонкам оставляем значения только из топ10-15 по частоте, остальные заменяем на значение other\n",
    "df_con.rename({'client':'client_pin'}, axis=1, inplace=True)\n",
    "pop_event_cat = df_con['event_category'].value_counts(normalize=True)[:10].index\n",
    "pop_event_name = df_con['event_name'].value_counts(normalize=True)[:10].index\n",
    "pop_device_screen_name = df_con['device_screen_name'].value_counts(normalize=True)[:10].index\n",
    "pop_timezone = df_con['timezone'].value_counts(normalize=True)[:15].index\n",
    "df_con['event_category'].loc[~df_con['event_category'].isin(pop_event_cat)] = 'other'\n",
    "df_con['event_name'].loc[~df_con['event_name'].isin(pop_event_name)] = 'other'\n",
    "df_con['device_screen_name'].loc[~df_con['device_screen_name'].isin(pop_device_screen_name)] = 'other'\n",
    "df_con['timezone'].loc[~df_con['timezone'].isin(pop_timezone)] = 'other'\n",
    "df_con['event_label'].loc[df_con['event_label'] == 'nothing'] = 0\n",
    "df_con['event_label'].loc[df_con['event_label'] != 0] = 1\n",
    "df_con['device_is_webview'].loc[df_con['device_is_webview'] == 'nothing'] = 0\n",
    "df_con['device_is_webview'].loc[df_con['device_is_webview'] != 0] = 1\n",
    "df_con['page_urlhost'].loc[df_con['page_urlhost'] == 'nothing'] = 0\n",
    "df_con['page_urlhost'].loc[df_con['page_urlhost'] != 0] = 1\n",
    "df_con['page_urlpath_full'].loc[df_con['page_urlpath_full'] == 'nothing'] = 0\n",
    "df_con['page_urlpath_full'].loc[df_con['page_urlpath_full'] != 0] = 1\n",
    "df_con['application_id'].loc[df_con['application_id'] == 'mobile'] = 0\n",
    "df_con['application_id'].loc[df_con['application_id'] != 0] = 1"
   ]
  },
  {
   "cell_type": "code",
   "execution_count": null,
   "metadata": {},
   "outputs": [],
   "source": [
    "#мерджим с исходным трейном\n",
    "df = df.merge(df_con, how='left', on=['client_pin', 'session_id'])"
   ]
  },
  {
   "cell_type": "code",
   "execution_count": null,
   "metadata": {},
   "outputs": [],
   "source": [
    "#и сохраняем\n",
    "df.to_csv('alfa1_train_expend.csv', index=False)"
   ]
  }
 ],
 "metadata": {
  "kernelspec": {
   "display_name": "Python 3",
   "language": "python",
   "name": "python3"
  },
  "language_info": {
   "codemirror_mode": {
    "name": "ipython",
    "version": 3
   },
   "file_extension": ".py",
   "mimetype": "text/x-python",
   "name": "python",
   "nbconvert_exporter": "python",
   "pygments_lexer": "ipython3",
   "version": "3.7.3"
  }
 },
 "nbformat": 4,
 "nbformat_minor": 4
}
